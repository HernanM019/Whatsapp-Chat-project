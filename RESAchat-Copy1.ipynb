{
 "cells": [
  {
   "cell_type": "code",
   "execution_count": 1,
   "metadata": {},
   "outputs": [],
   "source": [
    "import pandas as pd\n",
    "import numpy as np\n",
    "from datetime import datetime\n",
    "import re\n",
    "from wordcloud import WordCloud, STOPWORDS\n",
    "import dateparser\n",
    "from collections import Counter\n",
    "import matplotlib.pyplot as plt\n",
    "plt.style.use('ggplot')"
   ]
  },
  {
   "cell_type": "markdown",
   "metadata": {},
   "source": [
    "Next we need to load our Chat.txt into Python and read it. We will do this using the function below:"
   ]
  },
  {
   "cell_type": "code",
   "execution_count": 2,
   "metadata": {},
   "outputs": [],
   "source": [
    "with open('Chat.txt', \"r\", encoding='utf-8') as infile:\n",
    "    output_Data = { 'DateTime': [], 'Name': [], 'Content': [] }\n",
    "    for line in infile:\n",
    "        matches = re.match(r'^(\\d{1,2})\\/(\\d{1,2})\\/(\\d\\d), (24:00|2[0-3]:[0-5][0-9]|[0-1][0-9]:[0-5][0-9]) - ((\\S[^:]*?): )?(.*)$', line)\n",
    "        if matches:\n",
    "          output_Data['DateTime'].append(\n",
    "            datetime(\n",
    "              int(matches.group(3))+2000,\n",
    "              int(matches.group(1)),\n",
    "              int(matches.group(2)),\n",
    "              hour=int(matches.group(4)[0:2]),\n",
    "              minute=int(matches.group(4)[3:])\n",
    "            ))\n",
    "          output_Data['Name'].append(matches.group(6) or \"{undefined}\")\n",
    "          output_Data['Content'].append(matches.group(7))\n",
    "\n",
    "        elif len(output_Data['Content']) > 0:\n",
    "          output_Data['Content'][-1] += \"\\n\" + line[0:-1]\n"
   ]
  },
  {
   "cell_type": "code",
   "execution_count": 3,
   "metadata": {},
   "outputs": [
    {
     "data": {
      "text/html": [
       "<div>\n",
       "<style scoped>\n",
       "    .dataframe tbody tr th:only-of-type {\n",
       "        vertical-align: middle;\n",
       "    }\n",
       "\n",
       "    .dataframe tbody tr th {\n",
       "        vertical-align: top;\n",
       "    }\n",
       "\n",
       "    .dataframe thead th {\n",
       "        text-align: right;\n",
       "    }\n",
       "</style>\n",
       "<table border=\"1\" class=\"dataframe\">\n",
       "  <thead>\n",
       "    <tr style=\"text-align: right;\">\n",
       "      <th></th>\n",
       "      <th>DateTime</th>\n",
       "      <th>Name</th>\n",
       "      <th>Content</th>\n",
       "    </tr>\n",
       "  </thead>\n",
       "  <tbody>\n",
       "    <tr>\n",
       "      <th>0</th>\n",
       "      <td>2019-11-15 06:31:00</td>\n",
       "      <td>{undefined}</td>\n",
       "      <td>Messages to this group are now secured with en...</td>\n",
       "    </tr>\n",
       "    <tr>\n",
       "      <th>1</th>\n",
       "      <td>2019-11-11 09:41:00</td>\n",
       "      <td>{undefined}</td>\n",
       "      <td>Analoh RESAGRATIA created group \"RESA\"</td>\n",
       "    </tr>\n",
       "    <tr>\n",
       "      <th>2</th>\n",
       "      <td>2019-11-15 06:31:00</td>\n",
       "      <td>{undefined}</td>\n",
       "      <td>You joined using this group's invite link</td>\n",
       "    </tr>\n",
       "    <tr>\n",
       "      <th>3</th>\n",
       "      <td>2019-11-15 07:06:00</td>\n",
       "      <td>AcidiQ</td>\n",
       "      <td>Good morning Fam.\\nI just went through the Bud...</td>\n",
       "    </tr>\n",
       "    <tr>\n",
       "      <th>4</th>\n",
       "      <td>2019-11-15 07:29:00</td>\n",
       "      <td>+234 805 230 5080</td>\n",
       "      <td>Sounds great</td>\n",
       "    </tr>\n",
       "  </tbody>\n",
       "</table>\n",
       "</div>"
      ],
      "text/plain": [
       "             DateTime               Name  \\\n",
       "0 2019-11-15 06:31:00        {undefined}   \n",
       "1 2019-11-11 09:41:00        {undefined}   \n",
       "2 2019-11-15 06:31:00        {undefined}   \n",
       "3 2019-11-15 07:06:00             AcidiQ   \n",
       "4 2019-11-15 07:29:00  +234 805 230 5080   \n",
       "\n",
       "                                             Content  \n",
       "0  Messages to this group are now secured with en...  \n",
       "1             Analoh RESAGRATIA created group \"RESA\"  \n",
       "2          You joined using this group's invite link  \n",
       "3  Good morning Fam.\\nI just went through the Bud...  \n",
       "4                                       Sounds great  "
      ]
     },
     "execution_count": 3,
     "metadata": {},
     "output_type": "execute_result"
    }
   ],
   "source": [
    "df = pd.DataFrame(output_Data)\n",
    "df.head()"
   ]
  },
  {
   "cell_type": "markdown",
   "metadata": {},
   "source": [
    "Remove messages where Name is 'undefined' as these represent system messages."
   ]
  },
  {
   "cell_type": "code",
   "execution_count": 4,
   "metadata": {},
   "outputs": [
    {
     "name": "stdout",
     "output_type": "stream",
     "text": [
      "length of df before:1489\n",
      "length of df after:1465\n"
     ]
    }
   ],
   "source": [
    "print(\"length of df before:{}\".format(len(df)))\n",
    "#Remove messages where Name is 'undefined' as these represent system messages.\n",
    "df = df[~df[\"Name\"].str.contains(\"undefined\")]\n",
    "print(\"length of df after:{}\".format(len(df)))"
   ]
  },
  {
   "cell_type": "code",
   "execution_count": 5,
   "metadata": {},
   "outputs": [
    {
     "data": {
      "text/html": [
       "<div>\n",
       "<style scoped>\n",
       "    .dataframe tbody tr th:only-of-type {\n",
       "        vertical-align: middle;\n",
       "    }\n",
       "\n",
       "    .dataframe tbody tr th {\n",
       "        vertical-align: top;\n",
       "    }\n",
       "\n",
       "    .dataframe thead th {\n",
       "        text-align: right;\n",
       "    }\n",
       "</style>\n",
       "<table border=\"1\" class=\"dataframe\">\n",
       "  <thead>\n",
       "    <tr style=\"text-align: right;\">\n",
       "      <th></th>\n",
       "      <th>DateTime</th>\n",
       "      <th>Name</th>\n",
       "      <th>Content</th>\n",
       "    </tr>\n",
       "  </thead>\n",
       "  <tbody>\n",
       "    <tr>\n",
       "      <th>3</th>\n",
       "      <td>2019-11-15 07:06:00</td>\n",
       "      <td>AcidiQ</td>\n",
       "      <td>Good morning Fam.\\nI just went through the Bud...</td>\n",
       "    </tr>\n",
       "    <tr>\n",
       "      <th>4</th>\n",
       "      <td>2019-11-15 07:29:00</td>\n",
       "      <td>+234 805 230 5080</td>\n",
       "      <td>Sounds great</td>\n",
       "    </tr>\n",
       "    <tr>\n",
       "      <th>5</th>\n",
       "      <td>2019-11-15 08:09:00</td>\n",
       "      <td>Oluwatobi Williams RESAGRATIA</td>\n",
       "      <td>Pleasure to have you join us</td>\n",
       "    </tr>\n",
       "    <tr>\n",
       "      <th>6</th>\n",
       "      <td>2019-11-15 08:32:00</td>\n",
       "      <td>AcidiQ</td>\n",
       "      <td>Thank you Boss.\\nI've accessed the Doc file. H...</td>\n",
       "    </tr>\n",
       "    <tr>\n",
       "      <th>7</th>\n",
       "      <td>2019-11-15 08:34:00</td>\n",
       "      <td>+234 907 199 5587</td>\n",
       "      <td>Good morning data fellows, can anyone please s...</td>\n",
       "    </tr>\n",
       "    <tr>\n",
       "      <th>8</th>\n",
       "      <td>2019-11-15 08:40:00</td>\n",
       "      <td>Oluwatobi Williams RESAGRATIA</td>\n",
       "      <td>Yes. Any MDA that is left *Open* can be worked...</td>\n",
       "    </tr>\n",
       "    <tr>\n",
       "      <th>9</th>\n",
       "      <td>2019-11-15 08:42:00</td>\n",
       "      <td>Oluwatobi Williams RESAGRATIA</td>\n",
       "      <td>Do you mean the function that is used to extra...</td>\n",
       "    </tr>\n",
       "    <tr>\n",
       "      <th>10</th>\n",
       "      <td>2019-11-15 08:42:00</td>\n",
       "      <td>AcidiQ</td>\n",
       "      <td>Ok, great.</td>\n",
       "    </tr>\n",
       "    <tr>\n",
       "      <th>12</th>\n",
       "      <td>2019-11-15 09:14:00</td>\n",
       "      <td>+234 907 199 5587</td>\n",
       "      <td>Ok, thanks</td>\n",
       "    </tr>\n",
       "    <tr>\n",
       "      <th>15</th>\n",
       "      <td>2019-11-15 10:06:00</td>\n",
       "      <td>Analoh RESAGRATIA</td>\n",
       "      <td>There's a collaboration spreadsheet available,...</td>\n",
       "    </tr>\n",
       "  </tbody>\n",
       "</table>\n",
       "</div>"
      ],
      "text/plain": [
       "              DateTime                           Name  \\\n",
       "3  2019-11-15 07:06:00                         AcidiQ   \n",
       "4  2019-11-15 07:29:00              +234 805 230 5080   \n",
       "5  2019-11-15 08:09:00  Oluwatobi Williams RESAGRATIA   \n",
       "6  2019-11-15 08:32:00                         AcidiQ   \n",
       "7  2019-11-15 08:34:00              +234 907 199 5587   \n",
       "8  2019-11-15 08:40:00  Oluwatobi Williams RESAGRATIA   \n",
       "9  2019-11-15 08:42:00  Oluwatobi Williams RESAGRATIA   \n",
       "10 2019-11-15 08:42:00                         AcidiQ   \n",
       "12 2019-11-15 09:14:00              +234 907 199 5587   \n",
       "15 2019-11-15 10:06:00              Analoh RESAGRATIA   \n",
       "\n",
       "                                              Content  \n",
       "3   Good morning Fam.\\nI just went through the Bud...  \n",
       "4                                        Sounds great  \n",
       "5                        Pleasure to have you join us  \n",
       "6   Thank you Boss.\\nI've accessed the Doc file. H...  \n",
       "7   Good morning data fellows, can anyone please s...  \n",
       "8   Yes. Any MDA that is left *Open* can be worked...  \n",
       "9   Do you mean the function that is used to extra...  \n",
       "10                                         Ok, great.  \n",
       "12                                         Ok, thanks  \n",
       "15  There's a collaboration spreadsheet available,...  "
      ]
     },
     "execution_count": 5,
     "metadata": {},
     "output_type": "execute_result"
    }
   ],
   "source": [
    "df.head(10)"
   ]
  },
  {
   "cell_type": "code",
   "execution_count": 6,
   "metadata": {},
   "outputs": [
    {
     "data": {
      "text/html": [
       "<div>\n",
       "<style scoped>\n",
       "    .dataframe tbody tr th:only-of-type {\n",
       "        vertical-align: middle;\n",
       "    }\n",
       "\n",
       "    .dataframe tbody tr th {\n",
       "        vertical-align: top;\n",
       "    }\n",
       "\n",
       "    .dataframe thead th {\n",
       "        text-align: right;\n",
       "    }\n",
       "</style>\n",
       "<table border=\"1\" class=\"dataframe\">\n",
       "  <thead>\n",
       "    <tr style=\"text-align: right;\">\n",
       "      <th></th>\n",
       "      <th>DateTime</th>\n",
       "      <th>Name</th>\n",
       "      <th>Content</th>\n",
       "    </tr>\n",
       "  </thead>\n",
       "  <tbody>\n",
       "    <tr>\n",
       "      <th>3</th>\n",
       "      <td>2019-11-15 07:06:00</td>\n",
       "      <td>AcidiQ</td>\n",
       "      <td>Good morning Fam.\\nI just went through the Bud...</td>\n",
       "    </tr>\n",
       "    <tr>\n",
       "      <th>6</th>\n",
       "      <td>2019-11-15 08:32:00</td>\n",
       "      <td>AcidiQ</td>\n",
       "      <td>Thank you Boss.\\nI've accessed the Doc file. H...</td>\n",
       "    </tr>\n",
       "    <tr>\n",
       "      <th>9</th>\n",
       "      <td>2019-11-15 08:42:00</td>\n",
       "      <td>Oluwatobi Williams RESAGRATIA</td>\n",
       "      <td>Do you mean the function that is used to extra...</td>\n",
       "    </tr>\n",
       "    <tr>\n",
       "      <th>29</th>\n",
       "      <td>2019-11-18 09:14:00</td>\n",
       "      <td>Oluwatobi Williams RESAGRATIA</td>\n",
       "      <td>Good morning tribe,\\n\\nThe third tutorial is f...</td>\n",
       "    </tr>\n",
       "    <tr>\n",
       "      <th>30</th>\n",
       "      <td>2019-11-18 09:17:00</td>\n",
       "      <td>Oluwatobi Williams RESAGRATIA</td>\n",
       "      <td>If you're going through the tutorials, don't f...</td>\n",
       "    </tr>\n",
       "    <tr>\n",
       "      <th>...</th>\n",
       "      <td>...</td>\n",
       "      <td>...</td>\n",
       "      <td>...</td>\n",
       "    </tr>\n",
       "    <tr>\n",
       "      <th>1471</th>\n",
       "      <td>2020-01-06 19:08:00</td>\n",
       "      <td>+234 806 222 9997</td>\n",
       "      <td>Yeah, most likely. Or it depends. It depends o...</td>\n",
       "    </tr>\n",
       "    <tr>\n",
       "      <th>1473</th>\n",
       "      <td>2020-01-06 19:09:00</td>\n",
       "      <td>+234 706 900 2818</td>\n",
       "      <td>This was from gapminder.com\\nIt was surprising...</td>\n",
       "    </tr>\n",
       "    <tr>\n",
       "      <th>1475</th>\n",
       "      <td>2020-01-06 19:11:00</td>\n",
       "      <td>+234 806 222 9997</td>\n",
       "      <td>Ohh! That's good.\\nMissing data comes with its...</td>\n",
       "    </tr>\n",
       "    <tr>\n",
       "      <th>1477</th>\n",
       "      <td>2020-01-06 21:46:00</td>\n",
       "      <td>Oluwatobi Williams RESAGRATIA</td>\n",
       "      <td>I would advise a log scale too\\n\\nScatter plot...</td>\n",
       "    </tr>\n",
       "    <tr>\n",
       "      <th>1479</th>\n",
       "      <td>2020-01-06 23:21:00</td>\n",
       "      <td>Oluwatobi Williams RESAGRATIA</td>\n",
       "      <td>Good evening house,\\n\\nAny Chartered accountan...</td>\n",
       "    </tr>\n",
       "  </tbody>\n",
       "</table>\n",
       "<p>316 rows × 3 columns</p>\n",
       "</div>"
      ],
      "text/plain": [
       "                DateTime                           Name  \\\n",
       "3    2019-11-15 07:06:00                         AcidiQ   \n",
       "6    2019-11-15 08:32:00                         AcidiQ   \n",
       "9    2019-11-15 08:42:00  Oluwatobi Williams RESAGRATIA   \n",
       "29   2019-11-18 09:14:00  Oluwatobi Williams RESAGRATIA   \n",
       "30   2019-11-18 09:17:00  Oluwatobi Williams RESAGRATIA   \n",
       "...                  ...                            ...   \n",
       "1471 2020-01-06 19:08:00              +234 806 222 9997   \n",
       "1473 2020-01-06 19:09:00              +234 706 900 2818   \n",
       "1475 2020-01-06 19:11:00              +234 806 222 9997   \n",
       "1477 2020-01-06 21:46:00  Oluwatobi Williams RESAGRATIA   \n",
       "1479 2020-01-06 23:21:00  Oluwatobi Williams RESAGRATIA   \n",
       "\n",
       "                                                Content  \n",
       "3     Good morning Fam.\\nI just went through the Bud...  \n",
       "6     Thank you Boss.\\nI've accessed the Doc file. H...  \n",
       "9     Do you mean the function that is used to extra...  \n",
       "29    Good morning tribe,\\n\\nThe third tutorial is f...  \n",
       "30    If you're going through the tutorials, don't f...  \n",
       "...                                                 ...  \n",
       "1471  Yeah, most likely. Or it depends. It depends o...  \n",
       "1473  This was from gapminder.com\\nIt was surprising...  \n",
       "1475  Ohh! That's good.\\nMissing data comes with its...  \n",
       "1477  I would advise a log scale too\\n\\nScatter plot...  \n",
       "1479  Good evening house,\\n\\nAny Chartered accountan...  \n",
       "\n",
       "[316 rows x 3 columns]"
      ]
     },
     "execution_count": 6,
     "metadata": {},
     "output_type": "execute_result"
    }
   ],
   "source": [
    "df[df[\"Content\"].str.contains('\\n')]"
   ]
  },
  {
   "cell_type": "code",
   "execution_count": 7,
   "metadata": {},
   "outputs": [],
   "source": [
    "df[\"Content\"] = df[\"Content\"].replace('\\n', ' ', regex=True)"
   ]
  },
  {
   "cell_type": "code",
   "execution_count": 8,
   "metadata": {},
   "outputs": [
    {
     "data": {
      "text/html": [
       "<div>\n",
       "<style scoped>\n",
       "    .dataframe tbody tr th:only-of-type {\n",
       "        vertical-align: middle;\n",
       "    }\n",
       "\n",
       "    .dataframe tbody tr th {\n",
       "        vertical-align: top;\n",
       "    }\n",
       "\n",
       "    .dataframe thead th {\n",
       "        text-align: right;\n",
       "    }\n",
       "</style>\n",
       "<table border=\"1\" class=\"dataframe\">\n",
       "  <thead>\n",
       "    <tr style=\"text-align: right;\">\n",
       "      <th></th>\n",
       "      <th>DateTime</th>\n",
       "      <th>Name</th>\n",
       "      <th>Content</th>\n",
       "    </tr>\n",
       "  </thead>\n",
       "  <tbody>\n",
       "  </tbody>\n",
       "</table>\n",
       "</div>"
      ],
      "text/plain": [
       "Empty DataFrame\n",
       "Columns: [DateTime, Name, Content]\n",
       "Index: []"
      ]
     },
     "execution_count": 8,
     "metadata": {},
     "output_type": "execute_result"
    }
   ],
   "source": [
    "df[df[\"Content\"].str.contains('\\n')]"
   ]
  },
  {
   "cell_type": "markdown",
   "metadata": {},
   "source": [
    " Create Columns for Date, Time, Word Count etc."
   ]
  },
  {
   "cell_type": "code",
   "execution_count": 9,
   "metadata": {},
   "outputs": [
    {
     "data": {
      "text/plain": [
       "3       2019-11-15\n",
       "4       2019-11-15\n",
       "5       2019-11-15\n",
       "6       2019-11-15\n",
       "7       2019-11-15\n",
       "           ...    \n",
       "1484    2020-01-07\n",
       "1485    2020-01-07\n",
       "1486    2020-01-07\n",
       "1487    2020-01-07\n",
       "1488    2020-01-07\n",
       "Name: Date, Length: 1465, dtype: object"
      ]
     },
     "execution_count": 9,
     "metadata": {},
     "output_type": "execute_result"
    }
   ],
   "source": [
    "df['Date'] = [datetime.date(d) for d in df['DateTime']] \n",
    "df[\"Date\"]"
   ]
  },
  {
   "cell_type": "code",
   "execution_count": 10,
   "metadata": {},
   "outputs": [
    {
     "data": {
      "text/plain": [
       "(1465,)"
      ]
     },
     "execution_count": 10,
     "metadata": {},
     "output_type": "execute_result"
    }
   ],
   "source": [
    "df['Time'] = [datetime.time(d) for d in df['DateTime']]\n",
    "df[\"Time\"].shape"
   ]
  },
  {
   "cell_type": "code",
   "execution_count": 11,
   "metadata": {},
   "outputs": [
    {
     "data": {
      "text/plain": [
       "3        7\n",
       "4        7\n",
       "5        8\n",
       "6        8\n",
       "7        8\n",
       "        ..\n",
       "1484     5\n",
       "1485     9\n",
       "1486    20\n",
       "1487    20\n",
       "1488    21\n",
       "Name: Hour, Length: 1465, dtype: int64"
      ]
     },
     "execution_count": 11,
     "metadata": {},
     "output_type": "execute_result"
    }
   ],
   "source": [
    "df['Hour'] = df.DateTime.dt.hour\n",
    "df[\"Hour\"]"
   ]
  },
  {
   "cell_type": "code",
   "execution_count": 12,
   "metadata": {},
   "outputs": [],
   "source": [
    "df['weekday'] = df['DateTime'].apply(lambda x: x.day_name())"
   ]
  },
  {
   "cell_type": "code",
   "execution_count": 13,
   "metadata": {},
   "outputs": [],
   "source": [
    "df['Word_Count'] = df['Content'].str.count(' ') + 1\n",
    "df['Letter_Count'] = df['Content'].apply(lambda s : len(s))"
   ]
  },
  {
   "cell_type": "code",
   "execution_count": 14,
   "metadata": {},
   "outputs": [],
   "source": [
    "df.reset_index(drop=True, inplace=True)"
   ]
  },
  {
   "cell_type": "code",
   "execution_count": 15,
   "metadata": {},
   "outputs": [
    {
     "data": {
      "text/html": [
       "<div>\n",
       "<style scoped>\n",
       "    .dataframe tbody tr th:only-of-type {\n",
       "        vertical-align: middle;\n",
       "    }\n",
       "\n",
       "    .dataframe tbody tr th {\n",
       "        vertical-align: top;\n",
       "    }\n",
       "\n",
       "    .dataframe thead th {\n",
       "        text-align: right;\n",
       "    }\n",
       "</style>\n",
       "<table border=\"1\" class=\"dataframe\">\n",
       "  <thead>\n",
       "    <tr style=\"text-align: right;\">\n",
       "      <th></th>\n",
       "      <th>DateTime</th>\n",
       "      <th>Name</th>\n",
       "      <th>Content</th>\n",
       "      <th>Date</th>\n",
       "      <th>Time</th>\n",
       "      <th>Hour</th>\n",
       "      <th>weekday</th>\n",
       "      <th>Word_Count</th>\n",
       "      <th>Letter_Count</th>\n",
       "    </tr>\n",
       "  </thead>\n",
       "  <tbody>\n",
       "    <tr>\n",
       "      <th>0</th>\n",
       "      <td>2019-11-15 07:06:00</td>\n",
       "      <td>AcidiQ</td>\n",
       "      <td>Good morning Fam. I just went through the Budg...</td>\n",
       "      <td>2019-11-15</td>\n",
       "      <td>07:06:00</td>\n",
       "      <td>7</td>\n",
       "      <td>Friday</td>\n",
       "      <td>25</td>\n",
       "      <td>150</td>\n",
       "    </tr>\n",
       "    <tr>\n",
       "      <th>1</th>\n",
       "      <td>2019-11-15 07:29:00</td>\n",
       "      <td>+234 805 230 5080</td>\n",
       "      <td>Sounds great</td>\n",
       "      <td>2019-11-15</td>\n",
       "      <td>07:29:00</td>\n",
       "      <td>7</td>\n",
       "      <td>Friday</td>\n",
       "      <td>2</td>\n",
       "      <td>12</td>\n",
       "    </tr>\n",
       "    <tr>\n",
       "      <th>2</th>\n",
       "      <td>2019-11-15 08:09:00</td>\n",
       "      <td>Oluwatobi Williams RESAGRATIA</td>\n",
       "      <td>Pleasure to have you join us</td>\n",
       "      <td>2019-11-15</td>\n",
       "      <td>08:09:00</td>\n",
       "      <td>8</td>\n",
       "      <td>Friday</td>\n",
       "      <td>6</td>\n",
       "      <td>28</td>\n",
       "    </tr>\n",
       "    <tr>\n",
       "      <th>3</th>\n",
       "      <td>2019-11-15 08:32:00</td>\n",
       "      <td>AcidiQ</td>\n",
       "      <td>Thank you Boss. I've accessed the Doc file. Ho...</td>\n",
       "      <td>2019-11-15</td>\n",
       "      <td>08:32:00</td>\n",
       "      <td>8</td>\n",
       "      <td>Friday</td>\n",
       "      <td>20</td>\n",
       "      <td>108</td>\n",
       "    </tr>\n",
       "    <tr>\n",
       "      <th>4</th>\n",
       "      <td>2019-11-15 08:34:00</td>\n",
       "      <td>+234 907 199 5587</td>\n",
       "      <td>Good morning data fellows, can anyone please s...</td>\n",
       "      <td>2019-11-15</td>\n",
       "      <td>08:34:00</td>\n",
       "      <td>8</td>\n",
       "      <td>Friday</td>\n",
       "      <td>24</td>\n",
       "      <td>158</td>\n",
       "    </tr>\n",
       "  </tbody>\n",
       "</table>\n",
       "</div>"
      ],
      "text/plain": [
       "             DateTime                           Name  \\\n",
       "0 2019-11-15 07:06:00                         AcidiQ   \n",
       "1 2019-11-15 07:29:00              +234 805 230 5080   \n",
       "2 2019-11-15 08:09:00  Oluwatobi Williams RESAGRATIA   \n",
       "3 2019-11-15 08:32:00                         AcidiQ   \n",
       "4 2019-11-15 08:34:00              +234 907 199 5587   \n",
       "\n",
       "                                             Content        Date      Time  \\\n",
       "0  Good morning Fam. I just went through the Budg...  2019-11-15  07:06:00   \n",
       "1                                       Sounds great  2019-11-15  07:29:00   \n",
       "2                       Pleasure to have you join us  2019-11-15  08:09:00   \n",
       "3  Thank you Boss. I've accessed the Doc file. Ho...  2019-11-15  08:32:00   \n",
       "4  Good morning data fellows, can anyone please s...  2019-11-15  08:34:00   \n",
       "\n",
       "   Hour weekday  Word_Count  Letter_Count  \n",
       "0     7  Friday          25           150  \n",
       "1     7  Friday           2            12  \n",
       "2     8  Friday           6            28  \n",
       "3     8  Friday          20           108  \n",
       "4     8  Friday          24           158  "
      ]
     },
     "execution_count": 15,
     "metadata": {},
     "output_type": "execute_result"
    }
   ],
   "source": [
    "df.head()"
   ]
  },
  {
   "cell_type": "code",
   "execution_count": 16,
   "metadata": {},
   "outputs": [],
   "source": [
    "#saving to csv format\n",
    "df.to_csv(\"WhatsappChat.csv\")"
   ]
  }
 ],
 "metadata": {
  "hide_input": false,
  "kernelspec": {
   "display_name": "minimal_ds",
   "language": "python",
   "name": "minimal_ds"
  },
  "language_info": {
   "codemirror_mode": {
    "name": "ipython",
    "version": 3
   },
   "file_extension": ".py",
   "mimetype": "text/x-python",
   "name": "python",
   "nbconvert_exporter": "python",
   "pygments_lexer": "ipython3",
   "version": "3.7.4"
  },
  "toc": {
   "base_numbering": 1,
   "nav_menu": {},
   "number_sections": true,
   "sideBar": true,
   "skip_h1_title": false,
   "title_cell": "Table of Contents",
   "title_sidebar": "Contents",
   "toc_cell": false,
   "toc_position": {},
   "toc_section_display": true,
   "toc_window_display": false
  }
 },
 "nbformat": 4,
 "nbformat_minor": 2
}
